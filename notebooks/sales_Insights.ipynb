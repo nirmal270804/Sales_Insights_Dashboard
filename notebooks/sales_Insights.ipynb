{
 "cells": [
  {
   "cell_type": "code",
   "execution_count": 7,
   "id": "8ccdc647",
   "metadata": {},
   "outputs": [
    {
     "name": "stderr",
     "output_type": "stream",
     "text": [
      "<>:7: SyntaxWarning: invalid escape sequence '\\P'\n",
      "<>:7: SyntaxWarning: invalid escape sequence '\\P'\n",
      "C:\\Users\\Nirmal S Nair\\AppData\\Local\\Temp\\ipykernel_4120\\48196850.py:7: SyntaxWarning: invalid escape sequence '\\P'\n",
      "  df = pd.read_csv('D:\\Projects\\sales_insights_dashboard\\data\\sales_data.csv.csv', encoding='latin1')\n"
     ]
    },
    {
     "ename": "AttributeError",
     "evalue": "module 'matplotlib' has no attribute 'get_data_path'",
     "output_type": "error",
     "traceback": [
      "\u001b[31m---------------------------------------------------------------------------\u001b[39m",
      "\u001b[31mAttributeError\u001b[39m                            Traceback (most recent call last)",
      "\u001b[36mCell\u001b[39m\u001b[36m \u001b[39m\u001b[32mIn[7]\u001b[39m\u001b[32m, line 3\u001b[39m\n\u001b[32m      1\u001b[39m \u001b[38;5;66;03m# Step 1: Import Libraries\u001b[39;00m\n\u001b[32m      2\u001b[39m \u001b[38;5;28;01mimport\u001b[39;00m\u001b[38;5;250m \u001b[39m\u001b[34;01mpandas\u001b[39;00m\u001b[38;5;250m \u001b[39m\u001b[38;5;28;01mas\u001b[39;00m\u001b[38;5;250m \u001b[39m\u001b[34;01mpd\u001b[39;00m\n\u001b[32m----> \u001b[39m\u001b[32m3\u001b[39m \u001b[38;5;28;01mimport\u001b[39;00m\u001b[38;5;250m \u001b[39m\u001b[34;01mmatplotlib\u001b[39;00m\u001b[34;01m.\u001b[39;00m\u001b[34;01mpyplot\u001b[39;00m\u001b[38;5;250m \u001b[39m\u001b[38;5;28;01mas\u001b[39;00m\u001b[38;5;250m \u001b[39m\u001b[34;01mplt\u001b[39;00m\n\u001b[32m      4\u001b[39m \u001b[38;5;28;01mimport\u001b[39;00m\u001b[38;5;250m \u001b[39m\u001b[34;01mseaborn\u001b[39;00m\u001b[38;5;250m \u001b[39m\u001b[38;5;28;01mas\u001b[39;00m\u001b[38;5;250m \u001b[39m\u001b[34;01msns\u001b[39;00m\n\u001b[32m      6\u001b[39m \u001b[38;5;66;03m# Step 2: Load Data\u001b[39;00m\n",
      "\u001b[36mFile \u001b[39m\u001b[32md:\\Projects\\sales_insights_dashboard\\.venv\\Lib\\site-packages\\matplotlib\\__init__.py:1001\u001b[39m\n\u001b[32m    995\u001b[39m     _log.debug(\u001b[33m'\u001b[39m\u001b[33mloaded rc file \u001b[39m\u001b[38;5;132;01m%s\u001b[39;00m\u001b[33m'\u001b[39m, fname)\n\u001b[32m    997\u001b[39m     \u001b[38;5;28;01mreturn\u001b[39;00m config\n\u001b[32m   1000\u001b[39m rcParamsDefault = _rc_params_in_file(\n\u001b[32m-> \u001b[39m\u001b[32m1001\u001b[39m     \u001b[43mcbook\u001b[49m\u001b[43m.\u001b[49m\u001b[43m_get_data_path\u001b[49m\u001b[43m(\u001b[49m\u001b[33;43m\"\u001b[39;49m\u001b[33;43mmatplotlibrc\u001b[39;49m\u001b[33;43m\"\u001b[39;49m\u001b[43m)\u001b[49m,\n\u001b[32m   1002\u001b[39m     \u001b[38;5;66;03m# Strip leading comment.\u001b[39;00m\n\u001b[32m   1003\u001b[39m     transform=\u001b[38;5;28;01mlambda\u001b[39;00m line: line[\u001b[32m1\u001b[39m:] \u001b[38;5;28;01mif\u001b[39;00m line.startswith(\u001b[33m\"\u001b[39m\u001b[33m#\u001b[39m\u001b[33m\"\u001b[39m) \u001b[38;5;28;01melse\u001b[39;00m line,\n\u001b[32m   1004\u001b[39m     fail_on_error=\u001b[38;5;28;01mTrue\u001b[39;00m)\n\u001b[32m   1005\u001b[39m rcParamsDefault._update_raw(rcsetup._hardcoded_defaults)\n\u001b[32m   1006\u001b[39m rcParamsDefault._ensure_has_backend()\n",
      "\u001b[36mFile \u001b[39m\u001b[32md:\\Projects\\sales_insights_dashboard\\.venv\\Lib\\site-packages\\matplotlib\\cbook.py:603\u001b[39m, in \u001b[36m_get_data_path\u001b[39m\u001b[34m(*args)\u001b[39m\n\u001b[32m    597\u001b[39m \u001b[38;5;28;01mdef\u001b[39;00m\u001b[38;5;250m \u001b[39m\u001b[34m_get_data_path\u001b[39m(*args):\n\u001b[32m    598\u001b[39m \u001b[38;5;250m    \u001b[39m\u001b[33;03m\"\"\"\u001b[39;00m\n\u001b[32m    599\u001b[39m \u001b[33;03m    Return the `pathlib.Path` to a resource file provided by Matplotlib.\u001b[39;00m\n\u001b[32m    600\u001b[39m \n\u001b[32m    601\u001b[39m \u001b[33;03m    ``*args`` specify a path relative to the base data path.\u001b[39;00m\n\u001b[32m    602\u001b[39m \u001b[33;03m    \"\"\"\u001b[39;00m\n\u001b[32m--> \u001b[39m\u001b[32m603\u001b[39m     \u001b[38;5;28;01mreturn\u001b[39;00m Path(\u001b[43mmatplotlib\u001b[49m\u001b[43m.\u001b[49m\u001b[43mget_data_path\u001b[49m(), *args)\n",
      "\u001b[31mAttributeError\u001b[39m: module 'matplotlib' has no attribute 'get_data_path'"
     ]
    }
   ],
   "source": [
    "# Step 1: Import Libraries\n",
    "import pandas as pd\n",
    "import matplotlib.pyplot as plt\n",
    "import seaborn as sns\n",
    "\n",
    "# Step 2: Load Data\n",
    "df = pd.read_csv('D:\\Projects\\sales_insights_dashboard\\data\\sales_data.csv.csv', encoding='latin1')\n",
    "df.head()"
   ]
  },
  {
   "cell_type": "code",
   "execution_count": null,
   "id": "7a93a168",
   "metadata": {},
   "outputs": [],
   "source": []
  },
  {
   "cell_type": "code",
   "execution_count": 10,
   "id": "e8c98100",
   "metadata": {},
   "outputs": [
    {
     "name": "stdout",
     "output_type": "stream",
     "text": [
      "matplotlib in globals: False\n",
      "matplotlib in sys.modules: False\n",
      "import error: AttributeError(\"module 'matplotlib' has no attribute 'get_data_path'\")\n"
     ]
    }
   ],
   "source": [
    "# Diagnostic: check what's bound to name 'matplotlib' in this kernel\n",
    "import sys, importlib\n",
    "print('matplotlib in globals:', 'matplotlib' in globals())\n",
    "if 'matplotlib' in globals():\n",
    "    obj = globals()['matplotlib']\n",
    "    print('globals()[\"matplotlib\"] type:', type(obj))\n",
    "    print('globals()[\"matplotlib\"].__file__:', getattr(obj, '__file__', None))\n",
    "print('matplotlib in sys.modules:', 'matplotlib' in sys.modules)\n",
    "if 'matplotlib' in sys.modules:\n",
    "    m = sys.modules['matplotlib']\n",
    "    print('sys.modules[\"matplotlib\"] type:', type(m))\n",
    "    print('sys.modules[\"matplotlib\"].__file__:', getattr(m, '__file__', None))\n",
    "    print('has get_data_path:', hasattr(m, 'get_data_path'))\n",
    "    try:\n",
    "        print('get_data_path result:', m.get_data_path())\n",
    "    except Exception as e:\n",
    "        print('get_data_path raised:', repr(e))\n",
    "# Attempt to import module fresh\n",
    "try:\n",
    "    mod = importlib.import_module('matplotlib')\n",
    "    print('importlib import success, mod.__file__:', getattr(mod, '__file__', None))\n",
    "    print('mod is globals()[\"matplotlib\"]:', mod is globals().get('matplotlib'))\n",
    "except Exception as e:\n",
    "    print('import error:', repr(e))\n"
   ]
  },
  {
   "cell_type": "code",
   "execution_count": 9,
   "id": "97a38be9",
   "metadata": {},
   "outputs": [
    {
     "name": "stdout",
     "output_type": "stream",
     "text": [
      "cwd: d:\\Projects\\sales_insights_dashboard\\notebooks\n",
      "\n",
      "sys.path (first 20):\n",
      "0 C:\\Program Files\\WindowsApps\\PythonSoftwareFoundation.Python.3.13_3.13.2544.0_x64__qbz5n2kfra8p0\\python313.zip\n",
      "1 C:\\Program Files\\WindowsApps\\PythonSoftwareFoundation.Python.3.13_3.13.2544.0_x64__qbz5n2kfra8p0\\DLLs\n",
      "2 C:\\Program Files\\WindowsApps\\PythonSoftwareFoundation.Python.3.13_3.13.2544.0_x64__qbz5n2kfra8p0\\Lib\n",
      "3 C:\\Program Files\\WindowsApps\\PythonSoftwareFoundation.Python.3.13_3.13.2544.0_x64__qbz5n2kfra8p0\n",
      "4 d:\\Projects\\sales_insights_dashboard\\.venv\n",
      "5 \n",
      "6 d:\\Projects\\sales_insights_dashboard\\.venv\\Lib\\site-packages\n",
      "\n",
      "importlib.util.find_spec(\"matplotlib\") -> ModuleSpec(name='matplotlib', loader=<_frozen_importlib_external.SourceFileLoader object at 0x000001C7D7EA8710>, origin='d:\\\\Projects\\\\sales_insights_dashboard\\\\.venv\\\\Lib\\\\site-packages\\\\matplotlib\\\\__init__.py', submodule_search_locations=['d:\\\\Projects\\\\sales_insights_dashboard\\\\.venv\\\\Lib\\\\site-packages\\\\matplotlib'])\n",
      "spec.origin: d:\\Projects\\sales_insights_dashboard\\.venv\\Lib\\site-packages\\matplotlib\\__init__.py\n",
      "spec.loader: <_frozen_importlib_external.SourceFileLoader object at 0x000001C7D7EA8710>\n",
      "\n",
      "Attempting to import matplotlib to capture full traceback...\n"
     ]
    },
    {
     "name": "stderr",
     "output_type": "stream",
     "text": [
      "Traceback (most recent call last):\n",
      "  File \"C:\\Users\\Nirmal S Nair\\AppData\\Local\\Temp\\ipykernel_4120\\2046933244.py\", line 22, in <module>\n",
      "    import matplotlib\n",
      "  File \"d:\\Projects\\sales_insights_dashboard\\.venv\\Lib\\site-packages\\matplotlib\\__init__.py\", line 1001, in <module>\n",
      "    cbook._get_data_path(\"matplotlibrc\"),\n",
      "    ~~~~~~~~~~~~~~~~~~~~^^^^^^^^^^^^^^^^\n",
      "  File \"d:\\Projects\\sales_insights_dashboard\\.venv\\Lib\\site-packages\\matplotlib\\cbook.py\", line 603, in _get_data_path\n",
      "    return Path(matplotlib.get_data_path(), *args)\n",
      "                ^^^^^^^^^^^^^^^^^^^^^^^^\n",
      "AttributeError: module 'matplotlib' has no attribute 'get_data_path'\n"
     ]
    }
   ],
   "source": [
    "# More diagnostics: sys.path, cwd, and importlib spec for matplotlib\n",
    "import os, sys, importlib, importlib.util, traceback\n",
    "print('cwd:', os.getcwd())\n",
    "print('\\nsys.path (first 20):')\n",
    "for i,p in enumerate(sys.path[:20]):\n",
    "    print(i, p)\n",
    "\n",
    "spec = importlib.util.find_spec('matplotlib')\n",
    "print('\\nimportlib.util.find_spec(\"matplotlib\") ->', spec)\n",
    "if spec is not None:\n",
    "    try:\n",
    "        print('spec.origin:', spec.origin)\n",
    "    except Exception as e:\n",
    "        print('spec.origin error:', e)\n",
    "    try:\n",
    "        print('spec.loader:', spec.loader)\n",
    "    except Exception as e:\n",
    "        print('spec.loader error:', e)\n",
    "\n",
    "print('\\nAttempting to import matplotlib to capture full traceback...')\n",
    "try:\n",
    "    import matplotlib\n",
    "    print('Imported matplotlib ok:', getattr(matplotlib, '__file__', None))\n",
    "    print('has get_data_path:', hasattr(matplotlib, 'get_data_path'))\n",
    "    if hasattr(matplotlib, 'get_data_path'):\n",
    "        print('get_data_path:', matplotlib.get_data_path())\n",
    "except Exception:\n",
    "    traceback.print_exc()\n"
   ]
  }
 ],
 "metadata": {
  "kernelspec": {
   "display_name": ".venv",
   "language": "python",
   "name": "python3"
  },
  "language_info": {
   "codemirror_mode": {
    "name": "ipython",
    "version": 3
   },
   "file_extension": ".py",
   "mimetype": "text/x-python",
   "name": "python",
   "nbconvert_exporter": "python",
   "pygments_lexer": "ipython3",
   "version": "3.13.9"
  }
 },
 "nbformat": 4,
 "nbformat_minor": 5
}
